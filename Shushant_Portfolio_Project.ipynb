{
 "cells": [
  {
   "cell_type": "markdown",
   "id": "067272f3",
   "metadata": {},
   "source": [
    "<h2>Fetching Data from website using API call (Air Quality Monitors -> Bristol Open Data Bristol)</h2>\n"
   ]
  },
  {
   "cell_type": "code",
   "execution_count": null,
   "id": "817101e3",
   "metadata": {},
   "outputs": [],
   "source": [
    "pip install scikit-learn"
   ]
  },
  {
   "cell_type": "code",
   "execution_count": 60,
   "id": "13d53f1c",
   "metadata": {},
   "outputs": [],
   "source": [
    "import numpy as np\n",
    "import pandas as pd\n",
    "import json\n",
    "from sklearn import preprocessing"
   ]
  },
  {
   "cell_type": "code",
   "execution_count": null,
   "id": "20da552a",
   "metadata": {},
   "outputs": [],
   "source": [
    "import requests\n",
    "\n",
    "url = \"https://maps2.bristol.gov.uk/server2/rest/services/ext/air_quality/MapServer/0/query?outFields=*&where=1%3D1&f=geojson\"\n",
    "\n",
    "# https://www.geeksforgeeks.org/python/get-post-requests-using-python/\n",
    "\n",
    "response = requests.get(url)\n",
    "\n",
    "data = response.json()\n",
    "# data\n",
    "\n",
    "# Saving JSON data to a file => https://www.geeksforgeeks.org/python/reading-and-writing-json-to-a-file-in-python/\n",
    "# with open('Air_Quality_Bristol.json', 'w') as file:\n",
    "#     file.write(response.text)\n"
   ]
  },
  {
   "cell_type": "code",
   "execution_count": null,
   "id": "e697d839",
   "metadata": {},
   "outputs": [
    {
     "name": "stdout",
     "output_type": "stream",
     "text": [
      "   ID           Location  Longitude  Latitude Pollutants  \\\n",
      "0   1   Withywood School  51.407746 -2.627749    BTX NO2   \n",
      "1   2     Colston Avenue  51.454557 -2.596814        NO2   \n",
      "2   3      Blackboy Hill  51.469205 -2.613994        NO2   \n",
      "3   4        Three Lamps  51.444210 -2.578333        NO2   \n",
      "4   5  Bedminster Parade  51.442812 -2.595294        NO2   \n",
      "\n",
      "   Normalized Longitude  Normalized Latitude  \n",
      "0              0.090933             0.450763  \n",
      "1              0.293816             0.515873  \n",
      "2              0.357306             0.479713  \n",
      "3              0.248973             0.554769  \n",
      "4              0.242914             0.519071  \n"
     ]
    }
   ],
   "source": [
    "processed_data = {}\n",
    "\n",
    "# print(data['type']) # o/p -> FeatureCollection\n",
    "\n",
    "# print(data['features'][0]['type']) # o/p -> Feature\n",
    "\n",
    "# print(data['features'][0]['id'])\n",
    "\n",
    "id = data['features'][0]['id']\n",
    "\n",
    "location = data['features'][0][\"properties\"][\"location\"]\n",
    "\n",
    "pollutants = data['features'][0]['properties']['pollutants']\n",
    "\n",
    "x = data['features'][150]['geometry']['coordinates'][0]\n",
    "y = data['features'][150]['geometry']['coordinates'][1]\n",
    "\n",
    "# scaler = preprocessing.MinMaxScaler()\n",
    "# normalized_coordinates = scaler.fit_transform(x)\n",
    "\n",
    "file = open('Air_Quality_Bristol.json')\n",
    "\n",
    "file_data_in_dictionary = json.load(file)\n",
    "\n",
    "temp_list = []\n",
    "\n",
    "def NormalizeData(data):\n",
    "    print(type(data))\n",
    "    return (data - np.min(data)) / (np.max(data) - np.min(data))\n",
    "\n",
    "for i in file_data_in_dictionary['features']:\n",
    "    temp_list.append({\n",
    "        'ID' : i['id'],\n",
    "        'Location' : i['properties']['location'],\n",
    "        'Longitude' : i['geometry']['coordinates'][1],\n",
    "        'Latitude' : i['geometry']['coordinates'][0],\n",
    "        'Pollutants' : i['properties']['pollutants']\n",
    "    })\n",
    "    \n",
    "pd_dataframe = pd.DataFrame(temp_list)   \n",
    "\n",
    "pd_dataframe['Normalized Longitude'] = (pd_dataframe['Longitude'] - pd_dataframe['Longitude'].min()) / (pd_dataframe['Longitude'].max() - pd_dataframe['Longitude'].min())\n",
    "pd_dataframe['Normalized Latitude'] = (pd_dataframe['Latitude'] - pd_dataframe['Latitude'].min()) / (pd_dataframe['Latitude'].max() - pd_dataframe['Latitude'].min())\n",
    "\n",
    "print(pd_dataframe.head())\n",
    "\n",
    "\n",
    "# https://stackoverflow.com/questions/28056171/how-to-build-and-fill-pandas-dataframe-from-for-loop\n",
    "# https://www.geeksforgeeks.org/python/normalize-a-column-in-pandas/"
   ]
  },
  {
   "cell_type": "code",
   "execution_count": 5,
   "id": "32667250",
   "metadata": {},
   "outputs": [],
   "source": [
    "import os\n",
    "import sys\n",
    "\n",
    "# Set absolute path for Java\n",
    "os.environ[\"JAVA_HOME\"] = os.path.abspath(\"./JDK-8\")\n",
    "\n",
    "# Add Java bin to PATH\n",
    "os.environ[\"PATH\"] = os.path.join(os.environ[\"JAVA_HOME\"], \"bin\") + os.pathsep + os.environ[\"PATH\"]\n",
    "\n",
    "os.environ[\"PYSPARK_PYTHON\"] = sys.executable\n",
    "os.environ[\"PYSPARK_DRIVER_PYTHON\"] = sys.executable"
   ]
  },
  {
   "cell_type": "code",
   "execution_count": 7,
   "id": "e55bed72",
   "metadata": {},
   "outputs": [],
   "source": [
    "# Create a new Sparksession\n",
    "from pyspark.sql import SparkSession\n",
    "\n",
    "spark = SparkSession.builder \\\n",
    "    .master(\"local[*]\") \\\n",
    "    .appName(\"shushant_portfolio_spark_session\") \\\n",
    "    .getOrCreate()"
   ]
  }
 ],
 "metadata": {
  "kernelspec": {
   "display_name": "Python 3",
   "language": "python",
   "name": "python3"
  },
  "language_info": {
   "codemirror_mode": {
    "name": "ipython",
    "version": 3
   },
   "file_extension": ".py",
   "mimetype": "text/x-python",
   "name": "python",
   "nbconvert_exporter": "python",
   "pygments_lexer": "ipython3",
   "version": "3.8.0"
  }
 },
 "nbformat": 4,
 "nbformat_minor": 5
}
