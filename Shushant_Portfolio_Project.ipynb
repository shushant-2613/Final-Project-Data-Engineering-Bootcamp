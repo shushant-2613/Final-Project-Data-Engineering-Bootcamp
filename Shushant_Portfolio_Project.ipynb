{
 "cells": [
  {
   "cell_type": "markdown",
   "id": "067272f3",
   "metadata": {},
   "source": [
    "<h2>Fetching Data from website using API call (Air Quality Monitors -> Bristol Open Data Bristol)</h2>\n"
   ]
  },
  {
   "cell_type": "code",
   "execution_count": null,
   "id": "817101e3",
   "metadata": {},
   "outputs": [],
   "source": [
    "pip install scikit-learn"
   ]
  },
  {
   "cell_type": "code",
   "execution_count": 1,
   "id": "13d53f1c",
   "metadata": {},
   "outputs": [],
   "source": [
    "import numpy as np\n",
    "import pandas as pd\n",
    "import json\n",
    "from sklearn import preprocessing"
   ]
  },
  {
   "cell_type": "code",
   "execution_count": 7,
   "id": "20da552a",
   "metadata": {},
   "outputs": [],
   "source": [
    "import requests\n",
    "\n",
    "url = \"https://maps2.bristol.gov.uk/server2/rest/services/ext/air_quality/MapServer/0/query?outFields=*&where=1%3D1&f=geojson\"\n",
    "\n",
    "def url_to_json(url):\n",
    "    global data\n",
    "    \n",
    "    try:\n",
    "    # https://www.geeksforgeeks.org/python/get-post-requests-using-python/\n",
    "\n",
    "        response = requests.get(url)\n",
    "        response.raise_for_status()  # Raises an HTTPError for bad responses (4xx or 5xx)\n",
    "\n",
    "    except requests.exceptions.HTTPError as e:\n",
    "        print(\"HTTP error occurred:\", e)\n",
    "\n",
    "    except requests.exceptions.RequestException as e:\n",
    "        print(\"A request error occurred:\", e)\n",
    "\n",
    "        # https://www.geeksforgeeks.org/python/response-raise_for_status-python-requests/\n",
    "\n",
    "    data = response.json()\n",
    "    \n",
    "    # data\n",
    "\n",
    "    # Saving JSON data to a file => https://www.geeksforgeeks.org/python/reading-and-writing-json-to-a-file-in-python/\n",
    "    # with open('Air_Quality_Bristol.json', 'w') as file:\n",
    "    #     file.write(response.text)\n",
    "\n",
    "\n",
    "# Reading JSON data from a URL and storing it in JSOn file.\n",
    "url_to_json(url)"
   ]
  },
  {
   "cell_type": "code",
   "execution_count": 8,
   "id": "f6e377b2",
   "metadata": {},
   "outputs": [],
   "source": [
    "# Function to round of the coordinates up to 4 decimal places\n",
    "def standardize_coordinates(coordinate):\n",
    "    return round(coordinate, 4)"
   ]
  },
  {
   "cell_type": "code",
   "execution_count": 9,
   "id": "e697d839",
   "metadata": {},
   "outputs": [
    {
     "name": "stdout",
     "output_type": "stream",
     "text": [
      "   ID           Location  Longitude  Latitude Pollutants  Location Type  \\\n",
      "0   1   Withywood School  51.407746 -2.627749    BTX NO2  Urban Traffic   \n",
      "1   2     Colston Avenue  51.454557 -2.596814        NO2  Urban Traffic   \n",
      "2   3      Blackboy Hill  51.469205 -2.613994        NO2  Urban Traffic   \n",
      "3   4        Three Lamps  51.444210 -2.578333        NO2  Urban Traffic   \n",
      "4   5  Bedminster Parade  51.442812 -2.595294        NO2  Urban Traffic   \n",
      "\n",
      "   Normalized Longitude  Normalized Latitude  \n",
      "0                0.0909               0.4508  \n",
      "1                0.2938               0.5159  \n",
      "2                0.3573               0.4797  \n",
      "3                0.2490               0.5548  \n",
      "4                0.2429               0.5191  \n"
     ]
    }
   ],
   "source": [
    "'''Trying to access the specific data from the JSON content'''\n",
    "\n",
    "# print(data['type']) # o/p -> FeatureCollection\n",
    "\n",
    "# print(data['features'][0]['type']) # o/p -> Feature\n",
    "\n",
    "# print(data['features'][0]['id'])\n",
    "\n",
    "id = data['features'][0]['id']\n",
    "\n",
    "location = data['features'][0][\"properties\"][\"location\"]\n",
    "\n",
    "pollutants = data['features'][0]['properties']['pollutants']\n",
    "\n",
    "x = data['features'][150]['geometry']['coordinates'][0]\n",
    "y = data['features'][150]['geometry']['coordinates'][1]\n",
    "\n",
    "location_type = data['features'][0]['properties']['LocationClass']\n",
    "# location_type\n",
    "\n",
    "# scaler = preprocessing.MinMaxScaler()\n",
    "# normalized_coordinates = scaler.fit_transform(x)\n",
    "\n",
    "file = open('Air_Quality_Bristol.json')\n",
    "\n",
    "file_data_in_dictionary = json.load(file)\n",
    "\n",
    "temp_list = []\n",
    "\n",
    "# Extracting the required data from the JSON file and storing it in a list of dictionaries\n",
    "\n",
    "for i in file_data_in_dictionary['features']:\n",
    "    temp_list.append({\n",
    "        'ID' : i['id'],\n",
    "        'Location' : i['properties']['location'],\n",
    "        'Longitude' : i['geometry']['coordinates'][1],\n",
    "        'Latitude' : i['geometry']['coordinates'][0],\n",
    "        'Pollutants' : i['properties']['pollutants'],\n",
    "        'Location Type' : i['properties']['LocationClass']\n",
    "    })\n",
    "    \n",
    "\n",
    "\n",
    "pd_dataframe = pd.DataFrame(temp_list)   \n",
    "\n",
    "# Normalizing the Longitude and Latitude columns and also rounding them off to 4 decimal places using the standardize_coordinates function\n",
    "pd_dataframe['Normalized Longitude'] = standardize_coordinates((pd_dataframe['Longitude'] - pd_dataframe['Longitude'].min()) / (pd_dataframe['Longitude'].max() - pd_dataframe['Longitude'].min()))\n",
    "pd_dataframe['Normalized Latitude'] = standardize_coordinates((pd_dataframe['Latitude'] - pd_dataframe['Latitude'].min()) / (pd_dataframe['Latitude'].max() - pd_dataframe['Latitude'].min()))\n",
    "\n",
    "\n",
    "print(pd_dataframe.head())\n",
    "\n",
    "\n",
    "# Saving the DataFrame to a CSV file\n",
    "pd_dataframe.to_csv('Air_Quality_Bristol.csv', index=False)\n",
    "\n",
    "# https://stackoverflow.com/questions/28056171/how-to-build-and-fill-pandas-dataframe-from-for-loop\n",
    "# https://www.geeksforgeeks.org/python/normalize-a-column-in-pandas/"
   ]
  },
  {
   "cell_type": "markdown",
   "id": "4d523220",
   "metadata": {},
   "source": [
    "<h3>I faced issues installing PostgreSQL natively on my Windows machine, so I’m running it via Docker and using alternative libraries to connect from my Python environment.</h3>\n"
   ]
  },
  {
   "cell_type": "code",
   "execution_count": 11,
   "id": "d375bc0c",
   "metadata": {},
   "outputs": [
    {
     "name": "stdout",
     "output_type": "stream",
     "text": [
      "Requirement already satisfied: sqlalchemy in c:\\users\\hp\\appdata\\local\\programs\\python\\python38\\lib\\site-packages (2.0.41)Note: you may need to restart the kernel to use updated packages.\n",
      "\n",
      "Requirement already satisfied: typing-extensions>=4.6.0 in c:\\users\\hp\\appdata\\local\\programs\\python\\python38\\lib\\site-packages (from sqlalchemy) (4.13.0)\n",
      "Requirement already satisfied: greenlet>=1 in c:\\users\\hp\\appdata\\local\\programs\\python\\python38\\lib\\site-packages (from sqlalchemy) (3.1.1)\n"
     ]
    }
   ],
   "source": [
    "pip install sqlalchemy"
   ]
  },
  {
   "cell_type": "code",
   "execution_count": 3,
   "id": "b414818c",
   "metadata": {},
   "outputs": [
    {
     "name": "stdout",
     "output_type": "stream",
     "text": [
      "Collecting pg8000\n",
      "  Downloading pg8000-1.31.2-py3-none-any.whl.metadata (74 kB)\n",
      "Requirement already satisfied: python-dateutil>=2.8.2 in c:\\users\\hp\\appdata\\local\\programs\\python\\python38\\lib\\site-packages (from pg8000) (2.9.0.post0)\n",
      "Collecting scramp>=1.4.5 (from pg8000)\n",
      "  Downloading scramp-1.4.5-py3-none-any.whl.metadata (19 kB)\n",
      "Requirement already satisfied: six>=1.5 in c:\\users\\hp\\appdata\\local\\programs\\python\\python38\\lib\\site-packages (from python-dateutil>=2.8.2->pg8000) (1.17.0)\n",
      "Collecting asn1crypto>=1.5.1 (from scramp>=1.4.5->pg8000)\n",
      "  Downloading asn1crypto-1.5.1-py2.py3-none-any.whl.metadata (13 kB)\n",
      "Downloading pg8000-1.31.2-py3-none-any.whl (54 kB)\n",
      "Downloading scramp-1.4.5-py3-none-any.whl (12 kB)\n",
      "Downloading asn1crypto-1.5.1-py2.py3-none-any.whl (105 kB)\n",
      "Installing collected packages: asn1crypto, scramp, pg8000\n",
      "Successfully installed asn1crypto-1.5.1 pg8000-1.31.2 scramp-1.4.5\n",
      "Note: you may need to restart the kernel to use updated packages.\n"
     ]
    }
   ],
   "source": [
    "pip install pg8000"
   ]
  },
  {
   "cell_type": "code",
   "execution_count": 10,
   "id": "d8dbc888",
   "metadata": {},
   "outputs": [
    {
     "name": "stdout",
     "output_type": "stream",
     "text": [
      "Data inserted successfully.\n"
     ]
    }
   ],
   "source": [
    "import pandas as pd\n",
    "from sqlalchemy import create_engine\n",
    "\n",
    "# Sample DataFrame\n",
    "# df = pd.DataFrame({\n",
    "#     'Name': ['Shushant', 'Jose'],\n",
    "#     'Age': [25, 30]\n",
    "# })\n",
    "\n",
    "# pd_dataframe is the transformed DataFrame which I want to insert into PostgreSQL\n",
    "df = pd_dataframe \n",
    "\n",
    "# Deleting the Latitude and Longitude columns because we have normalized them and also renameing the normalized columns\n",
    "df.drop(columns=['Longitude', 'Latitude'], inplace=True)\n",
    "df.rename(columns={'Normalized Longitude': 'Longitude', 'Normalized Latitude': 'Latitude'}, inplace=True)\n",
    "\n",
    "# PostgreSQL connection using pg8000\n",
    "user = 'postgres'\n",
    "password = 'shushant'\n",
    "host = 'localhost'\n",
    "port = '5432'\n",
    "database = 'ETL Assignment'\n",
    "\n",
    "engine = create_engine(f\"postgresql+pg8000://{user}:{password}@{host}:{port}/{database}\")\n",
    "\n",
    "# Creating a DataBase table\n",
    "table_name = 'Bristol'\n",
    "\n",
    "# Inserting data\n",
    "df.to_sql(table_name, engine, if_exists='append', index=False)\n",
    "\n",
    "print(\"Data inserted successfully.\")\n"
   ]
  }
 ],
 "metadata": {
  "kernelspec": {
   "display_name": "Python 3",
   "language": "python",
   "name": "python3"
  },
  "language_info": {
   "codemirror_mode": {
    "name": "ipython",
    "version": 3
   },
   "file_extension": ".py",
   "mimetype": "text/x-python",
   "name": "python",
   "nbconvert_exporter": "python",
   "pygments_lexer": "ipython3",
   "version": "3.8.0"
  }
 },
 "nbformat": 4,
 "nbformat_minor": 5
}
